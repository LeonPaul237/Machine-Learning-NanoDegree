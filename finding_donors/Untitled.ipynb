{
 "cells": [
  {
   "cell_type": "code",
   "execution_count": null,
   "metadata": {
    "collapsed": true
   },
   "outputs": [],
   "source": [
    "#untitled\n",
    "def facet_wrapping():\n",
    "    missing_info = pd.read_csv(os.getcwd())\n",
    "    looper = __init__untitled().ensemble.sklearnmetrics.AdaBoostClassifier\n",
    "    looper_time_cpl_calc = __init__untitled.sklearn.metrics.accuracy_score\n",
    "    looper_space_variable_state = __init__unntitled.sklearn.metrics.f_score\n",
    "    composite_dict = looper.counter(missing_info)\n",
    "    composite_solution = __init__run_GridSearchCV(param_dict)\n",
    "    composite_metrics = pd.read_dict(composite_dict,composite_solution,composite_metrics)\n",
    "    "
   ]
  },
  {
   "cell_type": "markdown",
   "metadata": {},
   "source": [
    "MARKER REPOSITORY:\n",
    "LCF parameters\n"
   ]
  }
 ],
 "metadata": {
  "kernelspec": {
   "display_name": "Python 2",
   "language": "python",
   "name": "python2"
  },
  "language_info": {
   "codemirror_mode": {
    "name": "ipython",
    "version": 2
   },
   "file_extension": ".py",
   "mimetype": "text/x-python",
   "name": "python",
   "nbconvert_exporter": "python",
   "pygments_lexer": "ipython2",
   "version": "2.7.13"
  }
 },
 "nbformat": 4,
 "nbformat_minor": 2
}
